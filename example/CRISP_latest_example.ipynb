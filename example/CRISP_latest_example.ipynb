{
 "cells": [
  {
   "cell_type": "code",
   "execution_count": 1,
   "id": "5662af8f",
   "metadata": {},
   "outputs": [],
   "source": [
    "# !pwd\n",
    "\n",
    "import plotly.io as pio\n",
    "pio.renderers.default = \"notebook\""
   ]
  },
  {
   "cell_type": "code",
   "execution_count": 1,
   "id": "fa551af3",
   "metadata": {},
   "outputs": [],
   "source": [
    "import CRISP"
   ]
  },
  {
   "cell_type": "markdown",
   "id": "c9d4d046",
   "metadata": {},
   "source": [
    "# Simulation Utility"
   ]
  },
  {
   "cell_type": "markdown",
   "id": "26168c9b",
   "metadata": {},
   "source": [
    "### Atomic Indices"
   ]
  },
  {
   "cell_type": "code",
   "execution_count": 3,
   "id": "c5e0e53f",
   "metadata": {},
   "outputs": [
    {
     "name": "stdout",
     "output_type": "stream",
     "text": []
    }
   ],
   "source": [
    "from CRISP.simulation_utility.atomic_indices import run_atom_indices\n",
    "\n",
    "help(run_atom_indices)\n"
   ]
  },
  {
   "cell_type": "code",
   "execution_count": 4,
   "id": "788e51bd",
   "metadata": {},
   "outputs": [
    {
     "name": "stdout",
     "output_type": "stream",
     "text": []
    }
   ],
   "source": [
    "from CRISP.simulation_utility.atomic_indices import run_atom_indices\n",
    "\n",
    "file_path = \"./wrapped_traj.traj\"\n",
    "output_folder = './indices_new/'\n",
    "\n",
    "cutoffs = {\n",
    "    (\"O\", \"H\"): 1.2,\n",
    "    (\"Si\", \"O\"): 1.8,\n",
    "    (\"Al\", \"Si\"): 3.2,\n",
    "    (\"O\", \"O\"): 3.0\n",
    "}\n",
    "\n",
    "run_atom_indices(file_path, output_folder, frame_index=10, cutoffs=cutoffs)"
   ]
  },
  {
   "cell_type": "markdown",
   "id": "973f26e0",
   "metadata": {},
   "source": [
    "### Atomic_traj_linemap"
   ]
  },
  {
   "cell_type": "code",
   "execution_count": 5,
   "id": "47417fe4",
   "metadata": {},
   "outputs": [
    {
     "name": "stdout",
     "output_type": "stream",
     "text": []
    }
   ],
   "source": [
    "from CRISP.simulation_utility.atomic_traj_linemap import plot_atomic_trajectory\n",
    "help(plot_atomic_trajectory)"
   ]
  },
  {
   "cell_type": "code",
   "execution_count": 6,
   "id": "a71b57ed",
   "metadata": {},
   "outputs": [
    {
     "name": "stdout",
     "output_type": "stream",
     "text": []
    }
   ],
   "source": [
    "from CRISP.simulation_utility.atomic_traj_linemap import plot_atomic_trajectory\n",
    "\n",
    "traj_file = \"./wrapped_traj.traj\"\n",
    "output_dir = \"./atomic_traj_linemap/o_atom_trajectory.html\"\n",
    "selected_atoms = [593]\n",
    "frame_skip = 1  \n",
    "\n",
    "fig = plot_atomic_trajectory(\n",
    "    traj_path=traj_file, \n",
    "    selected_indices=selected_atoms,\n",
    "    output_path=output_dir,\n",
    "    frame_skip=frame_skip,\n",
    "    plot_title=\"Oxygen Atom Movement Analysis\",\n",
    "    atom_size_scale=1.2,\n",
    "    show_plot=False\n",
    ")\n"
   ]
  },
  {
   "cell_type": "markdown",
   "id": "8a72805c",
   "metadata": {},
   "source": [
    "### Error Analysis"
   ]
  },
  {
   "cell_type": "code",
   "execution_count": 7,
   "id": "6932a539",
   "metadata": {},
   "outputs": [
    {
     "name": "stdout",
     "output_type": "stream",
     "text": []
    }
   ],
   "source": [
    "from CRISP.simulation_utility.error_analysis import autocorrelation_analysis, block_analysis\n",
    "\n",
    "help(autocorrelation_analysis)"
   ]
  },
  {
   "cell_type": "code",
   "execution_count": 8,
   "id": "de484572",
   "metadata": {},
   "outputs": [
    {
     "name": "stdout",
     "output_type": "stream",
     "text": []
    }
   ],
   "source": [
    "help(block_analysis)"
   ]
  },
  {
   "cell_type": "code",
   "execution_count": 9,
   "id": "660403fb",
   "metadata": {},
   "outputs": [
    {
     "name": "stdout",
     "output_type": "stream",
     "text": []
    },
    {
     "name": "stdout",
     "output_type": "stream",
     "text": []
    },
    {
     "data": {},
     "metadata": {},
     "output_type": "display_data"
    }
   ],
   "source": [
    "import numpy as np\n",
    "\n",
    "data_positions = np.load(\"./error/positions.npy\")\n",
    "res_positions = autocorrelation_analysis(data_positions,plot_acf=True,max_lag=500)\n",
    "print(res_positions)"
   ]
  },
  {
   "cell_type": "code",
   "execution_count": 10,
   "id": "14438cea",
   "metadata": {},
   "outputs": [
    {
     "name": "stdout",
     "output_type": "stream",
     "text": []
    },
    {
     "data": {},
     "metadata": {},
     "output_type": "display_data"
    }
   ],
   "source": [
    "import numpy as np\n",
    "\n",
    "data_energy = np.loadtxt(\"./error/md_20k.log\", skiprows=1, usecols=2)\n",
    "acf_error = autocorrelation_analysis(data_energy, plot_acf=True)\n",
    "block_error = block_analysis(data_energy, convergence_tol=0.001, plot_blocks=False)\n",
    "\n",
    "print(acf_error)\n",
    "print(block_error)\n"
   ]
  },
  {
   "cell_type": "markdown",
   "id": "e3a4edb0",
   "metadata": {},
   "source": [
    "### Interatomic Distances"
   ]
  },
  {
   "cell_type": "code",
   "execution_count": 11,
   "id": "8387c7a9",
   "metadata": {},
   "outputs": [
    {
     "name": "stdout",
     "output_type": "stream",
     "text": []
    }
   ],
   "source": [
    "from CRISP.simulation_utility.interatomic_distances import distance_calculation\n",
    "\n",
    "help(distance_calculation)"
   ]
  },
  {
   "cell_type": "code",
   "execution_count": 12,
   "id": "8ee4eef8",
   "metadata": {},
   "outputs": [
    {
     "name": "stdout",
     "output_type": "stream",
     "text": []
    }
   ],
   "source": [
    "from CRISP.simulation_utility.interatomic_distances import save_distance_matrices\n",
    "\n",
    "help(save_distance_matrices)"
   ]
  },
  {
   "cell_type": "code",
   "execution_count": 13,
   "id": "d8c96dc7",
   "metadata": {},
   "outputs": [],
   "source": [
    "from CRISP.simulation_utility.interatomic_distances import distance_calculation\n",
    "\n",
    "traj_path = \"./wrapped_traj.traj\"\n",
    "frame_skip = 10\n",
    "index_type = [\"O\"]  \n",
    "\n",
    "full_dms, sub_dms = distance_calculation(traj_path, frame_skip, index_type)"
   ]
  },
  {
   "cell_type": "code",
   "execution_count": 14,
   "id": "a0d5a13a",
   "metadata": {},
   "outputs": [
    {
     "name": "stdout",
     "output_type": "stream",
     "text": []
    }
   ],
   "source": [
    "save_distance_matrices(full_dms, sub_dms, index_type, output_dir=\"distance_calculations_zeo\")"
   ]
  },
  {
   "cell_type": "markdown",
   "id": "76a788ff",
   "metadata": {},
   "source": [
    "### Subsampling"
   ]
  },
  {
   "cell_type": "code",
   "execution_count": 15,
   "id": "59a3c7cc",
   "metadata": {},
   "outputs": [
    {
     "name": "stdout",
     "output_type": "stream",
     "text": []
    }
   ],
   "source": [
    "from CRISP.simulation_utility.subsampling import subsample\n",
    "help(subsample)"
   ]
  },
  {
   "cell_type": "code",
   "execution_count": 16,
   "id": "c692ecb7",
   "metadata": {},
   "outputs": [
    {
     "data": {},
     "metadata": {},
     "output_type": "display_data"
    },
    {
     "name": "stdout",
     "output_type": "stream",
     "text": []
    }
   ],
   "source": [
    "from CRISP.simulation_utility.subsampling import subsample\n",
    "\n",
    "all_frames = subsample(\n",
    "    filename=\"./Subsmapling/local_minima.traj\",\n",
    "    n_samples=30,\n",
    "    index_type=\"all\",\n",
    "    file_format=\"traj\",\n",
    "    skip=10,\n",
    "    plot_subsample=True,\n",
    "    output_dir=\"./Subsmapling\"\n",
    ")\n"
   ]
  },
  {
   "cell_type": "markdown",
   "id": "7a31e54d",
   "metadata": {},
   "source": [
    "# Data Analysis"
   ]
  },
  {
   "cell_type": "markdown",
   "id": "590a7e56",
   "metadata": {},
   "source": [
    "### CN_Calculation"
   ]
  },
  {
   "cell_type": "code",
   "execution_count": 2,
   "id": "bf011a4b",
   "metadata": {},
   "outputs": [
    {
     "name": "stdout",
     "output_type": "stream",
     "text": []
    }
   ],
   "source": [
    "from CRISP.data_analysis.contact_coordination import coordination\n",
    "help(coordination)"
   ]
  },
  {
   "cell_type": "code",
   "execution_count": 3,
   "id": "67dfdc58",
   "metadata": {},
   "outputs": [],
   "source": [
    "filename = \"./wrapped_traj.traj\"\n",
    "target_atoms = \"O\"\n",
    "bonded_atoms = [\"O\"]\n",
    "custom_cutoffs = {('Al', 'O'): 3.5, ('O', 'O'): 2.5}\n",
    "skip_frames = 10"
   ]
  },
  {
   "cell_type": "code",
   "execution_count": 4,
   "id": "cd528197",
   "metadata": {
    "scrolled": false
   },
   "outputs": [
    {
     "data": {},
     "metadata": {},
     "output_type": "display_data"
    },
    {
     "name": "stdout",
     "output_type": "stream",
     "text": []
    },
    {
     "data": {},
     "metadata": {},
     "output_type": "display_data"
    }
   ],
   "source": [
    "cn  = coordination(filename, \n",
    "             target_atoms, bonded_atoms, custom_cutoffs, \n",
    "             skip_frames=10, plot_cn=True, output_dir=\"./CN_data\")"
   ]
  },
  {
   "cell_type": "markdown",
   "id": "f8b4558c",
   "metadata": {},
   "source": [
    "### Contacts"
   ]
  },
  {
   "cell_type": "code",
   "execution_count": 5,
   "id": "e140f058",
   "metadata": {},
   "outputs": [
    {
     "name": "stdout",
     "output_type": "stream",
     "text": []
    }
   ],
   "source": [
    "from CRISP.data_analysis.contact_coordination import contacts\n",
    "help(contacts)"
   ]
  },
  {
   "cell_type": "code",
   "execution_count": 6,
   "id": "36c5b077",
   "metadata": {},
   "outputs": [],
   "source": [
    "filename = \"./wrapped_traj.traj\"\n",
    "target_atoms = \"O\"\n",
    "bonded_atoms = [\"O\"]\n",
    "custom_cutoffs = {('Al', 'O'): 3.5, ('O', 'O'): 2.5}\n",
    "skip_frames = 1"
   ]
  },
  {
   "cell_type": "code",
   "execution_count": 7,
   "id": "17cc54f3",
   "metadata": {
    "scrolled": false
   },
   "outputs": [
    {
     "name": "stdout",
     "output_type": "stream",
     "text": []
    },
    {
     "data": {},
     "metadata": {},
     "output_type": "display_data"
    },
    {
     "name": "stdout",
     "output_type": "stream",
     "text": []
    },
    {
     "name": "stdout",
     "output_type": "stream",
     "text": []
    },
    {
     "name": "stdout",
     "output_type": "stream",
     "text": []
    }
   ],
   "source": [
    "sub_dm, cal_contacts = contacts(\n",
    "    filename, target_atoms, bonded_atoms, custom_cutoffs,\n",
    "    skip_frames=1,\n",
    "    plot_distance_matrix=True,\n",
    "    plot_contacts=True,\n",
    "    time_step=50.0*1000,  # fs\n",
    "    output_dir=\"./Contacts_data\")"
   ]
  },
  {
   "cell_type": "markdown",
   "id": "5965c3b7",
   "metadata": {},
   "source": [
    "### Hydrogen_Bond_Calculation"
   ]
  },
  {
   "cell_type": "code",
   "execution_count": 8,
   "id": "b17f1bb8",
   "metadata": {},
   "outputs": [
    {
     "name": "stdout",
     "output_type": "stream",
     "text": []
    }
   ],
   "source": [
    "from CRISP.data_analysis.h_bond import hydrogen_bonds\n",
    "help(hydrogen_bonds)"
   ]
  },
  {
   "cell_type": "code",
   "execution_count": 9,
   "id": "b93b93eb",
   "metadata": {
    "scrolled": false
   },
   "outputs": [
    {
     "data": {},
     "metadata": {},
     "output_type": "display_data"
    },
    {
     "name": "stdout",
     "output_type": "stream",
     "text": []
    },
    {
     "data": {},
     "metadata": {},
     "output_type": "display_data"
    },
    {
     "name": "stdout",
     "output_type": "stream",
     "text": []
    }
   ],
   "source": [
    "from CRISP.data_analysis.h_bond import hydrogen_bonds\n",
    "\n",
    "h_bonds_both_plots = hydrogen_bonds(\n",
    "    filename=\"./wrapped_traj.traj\",\n",
    "    skip_frames=1,\n",
    "    acceptor_atoms=[\"O\"],\n",
    "    angle_cutoff=120,\n",
    "    mic=True,\n",
    "    output_dir = \"./H_Bond_Data\",\n",
    "    time_step=50*1000,\n",
    "    plot_count=True,\n",
    "    plot_heatmap=True,\n",
    "    plot_graph_frame=True,        # Generate frame-specific plot\n",
    "    plot_graph_average=True,      # Generate average plot\n",
    "    graph_frame_index=10          # Use frame 10 instead of default 0\n",
    ")"
   ]
  },
  {
   "cell_type": "markdown",
   "id": "bd1e194c",
   "metadata": {},
   "source": [
    "### Radial_Distribution_Function"
   ]
  },
  {
   "cell_type": "code",
   "execution_count": 10,
   "id": "17da7ba5",
   "metadata": {},
   "outputs": [
    {
     "name": "stdout",
     "output_type": "stream",
     "text": []
    }
   ],
   "source": [
    "from CRISP.data_analysis.prdf import analyze_rdf\n",
    "help(analyze_rdf)"
   ]
  },
  {
   "cell_type": "code",
   "execution_count": 11,
   "id": "0290fd1a",
   "metadata": {
    "scrolled": false
   },
   "outputs": [
    {
     "name": "stdout",
     "output_type": "stream",
     "text": []
    },
    {
     "data": {},
     "metadata": {},
     "output_type": "display_data"
    },
    {
     "name": "stdout",
     "output_type": "stream",
     "text": []
    }
   ],
   "source": [
    "traj_file = \"./wrapped_traj.traj\"\n",
    "rmax = 10.0\n",
    "nbins = 50\n",
    "frame_skip = 1\n",
    "output_dir = \"custom_ase\"\n",
    "output_filename = None  # or specify a filename like \"output.pkl\"\n",
    "use_prdf = False  # Set to True if you want to calculate partial RDF\n",
    "atomic_indices = None  # Set to a tuple of lists if use_prdf is True, e.g., ([10, 1])\n",
    "\n",
    "data_rdf = analyze_rdf(\n",
    "    use_prdf=use_prdf,\n",
    "    rmax=rmax,\n",
    "    traj_path=traj_file,\n",
    "    nbins=nbins,\n",
    "    frame_skip=frame_skip,\n",
    "    output_filename=output_filename,\n",
    "    atomic_indices=atomic_indices,\n",
    "    output_dir=output_dir,\n",
    "    plot_prdf=True\n",
    ")"
   ]
  },
  {
   "cell_type": "code",
   "execution_count": 12,
   "id": "ad8fa68b",
   "metadata": {},
   "outputs": [
    {
     "name": "stdout",
     "output_type": "stream",
     "text": []
    }
   ],
   "source": [
    "import pickle\n",
    "import numpy as np\n",
    "\n",
    "output_path = \"./custom_ase/rdf_total.pkl\"\n",
    "\n",
    "with open(output_path, \"rb\") as f:\n",
    "    data = pickle.load(f)\n",
    "\n",
    "print(\"Data keys:\", list(data.keys()))\n",
    "\n",
    "x_data = data['x_data']\n",
    "y_data_all = data['y_data_all']\n",
    "\n",
    "print(\"x_data shape (bin centers):\", x_data.shape)\n",
    "print(\"Number of bins:\", len(x_data))\n",
    "\n",
    "print(\"y_data_all type:\", type(y_data_all))\n",
    "print(\"Number of frames:\", len(y_data_all))\n"
   ]
  },
  {
   "cell_type": "markdown",
   "id": "89e86efc",
   "metadata": {},
   "source": [
    "### Mean Square Displacement"
   ]
  },
  {
   "cell_type": "code",
   "execution_count": 20,
   "id": "28fc3eb1",
   "metadata": {},
   "outputs": [
    {
     "name": "stdout",
     "output_type": "stream",
     "text": []
    }
   ],
   "source": [
    "from CRISP.data_analysis.msd import calculate_save_msd\n",
    "help(calculate_save_msd)"
   ]
  },
  {
   "cell_type": "code",
   "execution_count": 21,
   "id": "88b5326c",
   "metadata": {},
   "outputs": [
    {
     "name": "stdout",
     "output_type": "stream",
     "text": []
    }
   ],
   "source": [
    "from CRISP.data_analysis.msd import analyze_from_csv\n",
    "help(analyze_from_csv)"
   ]
  },
  {
   "cell_type": "code",
   "execution_count": 22,
   "id": "3e3876cc",
   "metadata": {},
   "outputs": [
    {
     "name": "stdout",
     "output_type": "stream",
     "text": []
    }
   ],
   "source": [
    "from CRISP.data_analysis.msd import calculate_save_msd\n",
    "\n",
    "traj_file = \"../../../../BATH/System_Analysis_01ns/system_analysis/SiAl15/nvt.traj\"\n",
    "indices_file = \"../../../../BATH/System_Analysis_01ns/system_analysis/SiAl15/indices_needed/ex_fram_ox.npy\"\n",
    "timestep = 50.0 * 100\n",
    "\n",
    "msd_values, msd_times = calculate_save_msd(\n",
    "    traj_file=traj_file,\n",
    "    timestep_value=timestep,\n",
    "    indices_file=indices_file,\n",
    "    output_file=\"msd_results.csv\",\n",
    "    frame_skip=100\n",
    ")"
   ]
  },
  {
   "cell_type": "code",
   "execution_count": 23,
   "id": "e5130fdc",
   "metadata": {},
   "outputs": [
    {
     "name": "stdout",
     "output_type": "stream",
     "text": []
    },
    {
     "data": {},
     "metadata": {},
     "output_type": "display_data"
    },
    {
     "name": "stdout",
     "output_type": "stream",
     "text": []
    }
   ],
   "source": [
    "from CRISP.data_analysis.msd import analyze_from_csv\n",
    "import pandas as pd\n",
    "\n",
    "df = pd.read_csv(\"msd_results.csv\")\n",
    "print(f\"Total data points in file: {len(df)}\")\n",
    "\n",
    "# Then use a valid fit_end value\n",
    "D, error = analyze_from_csv(\n",
    "    csv_file=\"msd_results.csv\",\n",
    "    fit_start=0,\n",
    "    fit_end=len(df),  \n",
    "    with_intercept=True,\n",
    "    plot_msd=True\n",
    ")"
   ]
  },
  {
   "cell_type": "markdown",
   "id": "f871b3e4",
   "metadata": {},
   "source": [
    "### Clustering"
   ]
  },
  {
   "cell_type": "code",
   "execution_count": 24,
   "id": "89f7c1c6",
   "metadata": {},
   "outputs": [
    {
     "name": "stdout",
     "output_type": "stream",
     "text": []
    }
   ],
   "source": [
    "from CRISP.data_analysis.clustering import StructureAnalyzer\n",
    "help(StructureAnalyzer)"
   ]
  },
  {
   "cell_type": "code",
   "execution_count": 18,
   "id": "81156050",
   "metadata": {},
   "outputs": [
    {
     "name": "stdout",
     "output_type": "stream",
     "text": []
    }
   ],
   "source": [
    "from CRISP.data_analysis.clustering import analyze_trajectory\n",
    "help(analyze_trajectory)"
   ]
  },
  {
   "cell_type": "markdown",
   "id": "7275111b",
   "metadata": {},
   "source": [
    "#### Frame "
   ]
  },
  {
   "cell_type": "code",
   "execution_count": 17,
   "id": "55c8865b",
   "metadata": {},
   "outputs": [
    {
     "name": "stdout",
     "output_type": "stream",
     "text": []
    }
   ],
   "source": [
    "from CRISP.data_analysis.clustering import StructureAnalyzer\n",
    "import numpy as np\n",
    "import os\n",
    "\n",
    "traj_file = \"../../../../BATH/System_Analysis_01ns/system_analysis/SiAl15/nvt.traj\"\n",
    "indices_file = \"../../../../BATH/System_Analysis_01ns/system_analysis/SiAl15/indices_needed/ex_fram_ox.npy\"\n",
    "threshold = 3.0\n",
    "min_samples = 3\n",
    "output_dir = \"SiAl15_clustering\"\n",
    "\n",
    "os.makedirs(output_dir, exist_ok=True)\n",
    "\n",
    "atom_indices = np.load(indices_file)\n",
    "\n",
    "analyzer = StructureAnalyzer(\n",
    "    traj_file=traj_file,\n",
    "    atom_indices=atom_indices,\n",
    "    threshold=threshold,\n",
    "    min_samples=min_samples,\n",
    "    metric='precomputed',\n",
    "    custom_frame_index=-1  \n",
    ")\n",
    "\n",
    "results = analyzer.analyze_structure(output_dir=output_dir)\n"
   ]
  },
  {
   "cell_type": "markdown",
   "id": "b52ea64d",
   "metadata": {},
   "source": [
    "#### Trajectory"
   ]
  },
  {
   "cell_type": "code",
   "execution_count": 16,
   "id": "1b5bf0c3",
   "metadata": {
    "scrolled": false
   },
   "outputs": [
    {
     "name": "stdout",
     "output_type": "stream",
     "text": []
    },
    {
     "data": {},
     "metadata": {},
     "output_type": "display_data"
    },
    {
     "name": "stdout",
     "output_type": "stream",
     "text": []
    }
   ],
   "source": [
    "from CRISP.data_analysis.clustering import analyze_trajectory, save_analysis_results, plot_analysis_results\n",
    "import os\n",
    "import numpy as np\n",
    "\n",
    "traj_file = \"../../../../BATH/System_Analysis_01ns/system_analysis/SiAl15/nvt.traj\"\n",
    "indices_file = \"../../../../BATH/System_Analysis_01ns/system_analysis/SiAl15/indices_needed/ex_fram_ox.npy\"\n",
    "threshold = 3.0\n",
    "min_samples = 3\n",
    "skip_frames = 1000  \n",
    "output_dir = \"SiAl15_traj_analysis\"\n",
    "output_prefix = \"SiAl15_traj_clusters\"\n",
    "\n",
    "os.makedirs(output_dir, exist_ok=True)\n",
    "\n",
    "analysis_results = analyze_trajectory(\n",
    "    trajectory_path=traj_file,\n",
    "    atom_indices_path=indices_file,\n",
    "    threshold=threshold,\n",
    "    min_samples=min_samples,\n",
    "    skip_frames=skip_frames,\n",
    "    output_dir=output_dir,\n",
    "    save_html_visualizations=True  # Save HTML visualizations of first and last frames\n",
    ")\n",
    "\n",
    "pickle_file = save_analysis_results(\n",
    "    analysis_results=analysis_results,\n",
    "    output_dir=output_dir,\n",
    "    output_prefix=output_prefix\n",
    ")\n",
    "\n",
    "plot_analysis_results(pickle_file, output_dir=output_dir)"
   ]
  },
  {
   "cell_type": "code",
   "execution_count": null,
   "id": "00397770",
   "metadata": {},
   "outputs": [],
   "source": []
  }
 ],
 "metadata": {
  "kernelspec": {
   "display_name": "Python [conda env:molssi_best_practices]",
   "language": "python",
   "name": "conda-env-molssi_best_practices-py"
  },
  "language_info": {
   "codemirror_mode": {
    "name": "ipython",
    "version": 3
   },
   "file_extension": ".py",
   "mimetype": "text/x-python",
   "name": "python",
   "nbconvert_exporter": "python",
   "pygments_lexer": "ipython3",
   "version": "3.11.9"
  }
 },
 "nbformat": 4,
 "nbformat_minor": 5
}
