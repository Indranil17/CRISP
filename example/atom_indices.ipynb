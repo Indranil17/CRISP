{
 "cells": [
  {
   "cell_type": "code",
   "execution_count": 4,
   "id": "213a7d3e",
   "metadata": {},
   "outputs": [
    {
     "ename": "ModuleNotFoundError",
     "evalue": "No module named 'nglview'",
     "output_type": "error",
     "traceback": [
      "\u001b[0;31m---------------------------------------------------------------------------\u001b[0m",
      "\u001b[0;31mModuleNotFoundError\u001b[0m                       Traceback (most recent call last)",
      "Cell \u001b[0;32mIn[4], line 1\u001b[0m\n\u001b[0;32m----> 1\u001b[0m \u001b[38;5;28;01mimport\u001b[39;00m \u001b[38;5;21;01mCRISP\u001b[39;00m\n",
      "File \u001b[0;32m/mnt/c/Users/sahaC/Desktop/side_project/molssi_best_practices/CRISP/CRISP/__init__.py:5\u001b[0m\n\u001b[1;32m      3\u001b[0m \u001b[38;5;66;03m# Add imports here\u001b[39;00m\n\u001b[1;32m      4\u001b[0m \u001b[38;5;28;01mfrom\u001b[39;00m \u001b[38;5;21;01m.\u001b[39;00m\u001b[38;5;21;01matom_indices\u001b[39;00m \u001b[38;5;28;01mimport\u001b[39;00m \u001b[38;5;241m*\u001b[39m\n\u001b[0;32m----> 5\u001b[0m \u001b[38;5;28;01mfrom\u001b[39;00m \u001b[38;5;21;01m.\u001b[39;00m\u001b[38;5;21;01mvisualize_atom_indices\u001b[39;00m \u001b[38;5;28;01mimport\u001b[39;00m \u001b[38;5;241m*\u001b[39m\n\u001b[1;32m      7\u001b[0m \u001b[38;5;28;01mfrom\u001b[39;00m \u001b[38;5;21;01m.\u001b[39;00m\u001b[38;5;21;01m_version\u001b[39;00m \u001b[38;5;28;01mimport\u001b[39;00m __version__\n",
      "File \u001b[0;32m/mnt/c/Users/sahaC/Desktop/side_project/molssi_best_practices/CRISP/CRISP/visualize_atom_indices.py:3\u001b[0m\n\u001b[1;32m      1\u001b[0m \u001b[38;5;28;01mimport\u001b[39;00m \u001b[38;5;21;01mnumpy\u001b[39;00m \u001b[38;5;28;01mas\u001b[39;00m \u001b[38;5;21;01mnp\u001b[39;00m\n\u001b[1;32m      2\u001b[0m \u001b[38;5;28;01mimport\u001b[39;00m \u001b[38;5;21;01mase\u001b[39;00m\u001b[38;5;21;01m.\u001b[39;00m\u001b[38;5;21;01mio\u001b[39;00m\n\u001b[0;32m----> 3\u001b[0m \u001b[38;5;28;01mimport\u001b[39;00m \u001b[38;5;21;01mnglview\u001b[39;00m\n\u001b[1;32m      4\u001b[0m \u001b[38;5;28;01mimport\u001b[39;00m \u001b[38;5;21;01mnglview\u001b[39;00m\u001b[38;5;21;01m.\u001b[39;00m\u001b[38;5;21;01mcolor\u001b[39;00m\n\u001b[1;32m      5\u001b[0m \u001b[38;5;28;01mfrom\u001b[39;00m \u001b[38;5;21;01mipywidgets\u001b[39;00m \u001b[38;5;28;01mimport\u001b[39;00m Dropdown, FloatSlider, HBox, IntSlider, VBox\n",
      "\u001b[0;31mModuleNotFoundError\u001b[0m: No module named 'nglview'"
     ]
    }
   ],
   "source": [
    "import CRISP"
   ]
  },
  {
   "cell_type": "code",
   "execution_count": null,
   "id": "a9fce4be",
   "metadata": {},
   "outputs": [],
   "source": [
    "# Import the run_atom_indices function from the custom package\n",
    "from CRISP import run_atom_indices\n",
    "\n",
    "# Path to your ASE trajectory file\n",
    "file_path = \"./wrapped_traj.traj\"\n",
    "\n",
    "# Output folder to save the indices\n",
    "output_folder = './indices_detailed/'\n",
    "\n",
    "# Run the atom_indices function and save the results\n",
    "run_atom_indices(file_path, output_folder)\n"
   ]
  },
  {
   "cell_type": "code",
   "execution_count": null,
   "id": "f3b2c16f",
   "metadata": {},
   "outputs": [],
   "source": [
    "from CRISP import visualize_atom_indices\n",
    "\n",
    "# Path to your ASE trajectory file\n",
    "file_path = \"./wrapped_traj.traj\"\n",
    "\n",
    "# Path to the numpy array containing atom indices\n",
    "indices = './indices_new/al_indices.npy'\n",
    "\n",
    "# Call the function\n",
    "visualize_atom_indices(file_path, indices)\n"
   ]
  },
  {
   "cell_type": "code",
   "execution_count": null,
   "id": "467cbc91",
   "metadata": {},
   "outputs": [],
   "source": []
  },
  {
   "cell_type": "code",
   "execution_count": null,
   "id": "5db8309e",
   "metadata": {},
   "outputs": [],
   "source": []
  },
  {
   "cell_type": "code",
   "execution_count": null,
   "id": "74afa67b",
   "metadata": {},
   "outputs": [],
   "source": []
  }
 ],
 "metadata": {
  "kernelspec": {
   "display_name": "Python [conda env:molssi_best_practices]",
   "language": "python",
   "name": "conda-env-molssi_best_practices-py"
  },
  "language_info": {
   "codemirror_mode": {
    "name": "ipython",
    "version": 3
   },
   "file_extension": ".py",
   "mimetype": "text/x-python",
   "name": "python",
   "nbconvert_exporter": "python",
   "pygments_lexer": "ipython3",
   "version": "3.11.9"
  }
 },
 "nbformat": 4,
 "nbformat_minor": 5
}
